{
 "cells": [
  {
   "cell_type": "code",
   "execution_count": 51,
   "metadata": {},
   "outputs": [],
   "source": [
    "import pandas as pd\n",
    "import numpy as np\n",
    "import matplotlib.pyplot as plt\n",
    "import seaborn as sns\n",
    "import matplotlib.gridspec as gridspec\n",
    "import funcs as f\n",
    "from itertools import combinations \n",
    "\n",
    "\n",
    "from sklearn.model_selection import train_test_split\n",
    "from sklearn.preprocessing import minmax_scale\n",
    "import category_encoders as ce\n",
    "from sklearn.linear_model import LogisticRegressionCV\n",
    "from sklearn.metrics import confusion_matrix, roc_auc_score, f1_score\n",
    "\n",
    "# Bryan wuz here... X\n",
    "from sklearn.model_selection import cross_val_score\n",
    "from sklearn.pipeline import make_pipeline\n",
    "import category_encoders as ce\n",
    "\n",
    "import vtreat\n",
    "import vtreat.util\n",
    "\n",
    "from matplotlib import pyplot as plt\n",
    "import seaborn as sns\n",
    "\n",
    "\n",
    "rand_state = 42\n",
    "\n",
    "#import libraries\n",
    "import numpy as np\n",
    "import pandas as pd\n",
    "from os import path as op\n",
    "\n",
    "import gc\n",
    "\n",
    "from sklearn.model_selection import train_test_split, StratifiedKFold, cross_val_score, KFold, GridSearchCV\n",
    "from sklearn.preprocessing import minmax_scale\n",
    "import category_encoders as ce\n",
    "from sklearn.linear_model import LogisticRegressionCV\n",
    "from sklearn.metrics import confusion_matrix, roc_auc_score, f1_score, accuracy_score, precision_score, recall_score\n",
    "\n",
    "\n",
    "from sklearn.pipeline import Pipeline\n",
    "from sklearn.preprocessing import LabelEncoder, StandardScaler\n",
    "from sklearn.neighbors import KNeighborsClassifier\n",
    "from sklearn.tree import DecisionTreeClassifier\n",
    "from sklearn.naive_bayes import MultinomialNB\n",
    "from sklearn.feature_selection import SelectFromModel\n",
    "from sklearn.ensemble import RandomForestClassifier, GradientBoostingClassifier, ExtraTreesClassifier, BaggingClassifier, VotingClassifier, RandomTreesEmbedding\n",
    "from sklearn.cluster import KMeans\n",
    "from sklearn.decomposition import PCA\n",
    "from sklearn.svm import SVC\n",
    "from sklearn.linear_model import RidgeClassifier, SGDClassifier, LogisticRegression\n",
    "from sklearn.svm import SVC, LinearSVC\n",
    "from sklearn.naive_bayes import GaussianNB\n",
    "\n",
    "from hyperopt import fmin, hp, tpe, Trials, space_eval, STATUS_OK, STATUS_RUNNING\n",
    "\n",
    "import vtreat\n",
    "import vtreat.util\n",
    "\n",
    "import xgboost as xgb\n",
    "from xgboost import XGBClassifier\n",
    "import xgbfir\n",
    "\n",
    "from matplotlib import pyplot as plt\n",
    "import seaborn as sns\n",
    "# warnings.simplefilter(action='ignore', category=FutureWarning)\n",
    "import KTBoost.KTBoost as KTBoost\n",
    "\n",
    "import warnings\n",
    "warnings.filterwarnings(\"ignore\")"
   ]
  },
  {
   "cell_type": "code",
   "execution_count": 52,
   "metadata": {},
   "outputs": [],
   "source": [
    "data = pd.read_csv('student-data.csv')\n",
    "#renam passed as target\n",
    "data.rename(columns={\"passed\": \"target\"}, inplace = True)\n",
    "#relabel target to find failing students no:1 yes :0\n",
    "data['target'] = data['target'].map({'no':0, 'yes':1})"
   ]
  },
  {
   "cell_type": "code",
   "execution_count": 53,
   "metadata": {},
   "outputs": [],
   "source": [
    "data['absences_binned'] = data['absences'].apply(f.abs_bin)"
   ]
  },
  {
   "cell_type": "markdown",
   "metadata": {},
   "source": [
    "## Split the data into by gender "
   ]
  },
  {
   "cell_type": "code",
   "execution_count": 61,
   "metadata": {},
   "outputs": [],
   "source": [
    "data_F = data[data['sex']=='F']\n",
    "data_M = data[data['sex']=='M']"
   ]
  },
  {
   "cell_type": "code",
   "execution_count": 62,
   "metadata": {},
   "outputs": [],
   "source": [
    "data_F_abs = data_F[data_F['absences_binned']!=0]"
   ]
  },
  {
   "cell_type": "code",
   "execution_count": 63,
   "metadata": {},
   "outputs": [],
   "source": [
    "yF = data_F_abs['target']\n",
    "del data_F_abs['target']\n",
    "data_F_abs.drop(columns = ['absences'], inplace = True)\n",
    "XF = data_F_abs.astype(str)\n",
    "\n"
   ]
  },
  {
   "cell_type": "code",
   "execution_count": 42,
   "metadata": {},
   "outputs": [],
   "source": [
    "yM = data_M['target']\n",
    "del data_M['target']\n",
    "XM = data_M.astype(str)"
   ]
  },
  {
   "cell_type": "markdown",
   "metadata": {},
   "source": [
    "### Using SelectFromModel to select features "
   ]
  },
  {
   "cell_type": "code",
   "execution_count": 14,
   "metadata": {},
   "outputs": [
    {
     "data": {
      "text/plain": [
       "Index(['school', 'address', 'Pstatus', 'Medu', 'Mjob', 'reason', 'traveltime',\n",
       "       'studytime', 'failures', 'schoolsup', 'famsup', 'higher', 'famrel',\n",
       "       'goout', 'Walc'],\n",
       "      dtype='object')"
      ]
     },
     "execution_count": 14,
     "metadata": {},
     "output_type": "execute_result"
    }
   ],
   "source": [
    "encoderF = ce.target_encoder.TargetEncoder()\n",
    "selectF = SelectFromModel(lasso, threshold=0.25)\n",
    "X_encF = encoderF.fit_transform(XF.values,yF.values)\n",
    "X_SFMF = selectF.fit_transform(X_encF,yF)\n",
    "\n",
    "\n",
    "feature_idx = selectF.get_support()\n",
    "feature_name = data_F_abs.columns[feature_idx]\n",
    "feature_name\n"
   ]
  },
  {
   "cell_type": "code",
   "execution_count": 43,
   "metadata": {},
   "outputs": [
    {
     "data": {
      "text/plain": [
       "Index(['school', 'age', 'address', 'Pstatus', 'Medu', 'Fedu', 'Mjob', 'Fjob',\n",
       "       'reason', 'guardian', 'failures', 'schoolsup', 'activities', 'higher',\n",
       "       'internet', 'romantic', 'goout', 'health', 'absences_binned'],\n",
       "      dtype='object')"
      ]
     },
     "execution_count": 43,
     "metadata": {},
     "output_type": "execute_result"
    }
   ],
   "source": [
    "encoderM = ce.target_encoder.TargetEncoder()\n",
    "selectM = SelectFromModel(lasso, threshold=0.25)\n",
    "X_encM = encoderM.fit_transform(XM.values,yM.values)\n",
    "X_SFMM = selectM.fit_transform(X_encM,yM)\n",
    "\n",
    "feature_idx = selectM.get_support()\n",
    "feature_name = data_M.columns[feature_idx]\n",
    "feature_name"
   ]
  },
  {
   "cell_type": "markdown",
   "metadata": {},
   "source": [
    "### Training Score for Female Population"
   ]
  },
  {
   "cell_type": "code",
   "execution_count": 15,
   "metadata": {},
   "outputs": [
    {
     "name": "stdout",
     "output_type": "stream",
     "text": [
      "0.5800925925925926 +/- 0.0672798447042601\n"
     ]
    }
   ],
   "source": [
    "scoreF = cross_val_score(clf, X_SFMF, yF.values, cv=5, scoring='roc_auc')\n",
    "print(scoreF.mean(), \"+/-\", scoreF.std())"
   ]
  },
  {
   "cell_type": "markdown",
   "metadata": {},
   "source": [
    "### Training Score for Male Population"
   ]
  },
  {
   "cell_type": "code",
   "execution_count": 44,
   "metadata": {},
   "outputs": [
    {
     "name": "stdout",
     "output_type": "stream",
     "text": [
      "0.7398325358851675 +/- 0.016979748285380833\n"
     ]
    }
   ],
   "source": [
    "scoreM = cross_val_score(clf, X_SFMM, yM.values, cv=3, scoring='roc_auc')\n",
    "print(scoreM.mean(), \"+/-\", scoreM.std())"
   ]
  },
  {
   "cell_type": "markdown",
   "metadata": {},
   "source": [
    "## Modeling for Female Group"
   ]
  },
  {
   "cell_type": "code",
   "execution_count": 64,
   "metadata": {},
   "outputs": [],
   "source": [
    "XF.drop(columns=['sex'], inplace = True)"
   ]
  },
  {
   "cell_type": "code",
   "execution_count": 65,
   "metadata": {},
   "outputs": [],
   "source": [
    "FX_train, FX_test, Fy_train, Fy_test = train_test_split(XF, yF, test_size = 0.3, random_state = 42, stratify = yF)\n"
   ]
  },
  {
   "cell_type": "code",
   "execution_count": 66,
   "metadata": {},
   "outputs": [],
   "source": [
    "#target encode the training data\n",
    "#concat the X_train and y_train to target encode\n",
    "F_train =pd.concat([FX_train, Fy_train], axis = 1)\n"
   ]
  },
  {
   "cell_type": "code",
   "execution_count": 67,
   "metadata": {},
   "outputs": [],
   "source": [
    "#create new df for encoded features\n",
    "FX_train_enc = pd.DataFrame()\n",
    "FX_test_enc = pd.DataFrame()\n",
    "\n",
    "for col in FX_train.columns.to_list():\n",
    "    #means has col cats and their means\n",
    "    means = F_train.groupby(col).target.mean()\n",
    "    #makes new col in new XTrain of encoded cols\n",
    "    FX_train_enc[col] = FX_train[col].map(means)\n",
    "    #makes new col in new Xtest of encoded cols using map from train data\n",
    "    #no leakage\n",
    "    FX_test_enc[col] = FX_test[col].map(means)"
   ]
  },
  {
   "cell_type": "code",
   "execution_count": 68,
   "metadata": {},
   "outputs": [],
   "source": [
    "#fit model on train data using encoded train set\n",
    "lasso = LogisticRegressionCV(class_weight='balanced',\n",
    "                             penalty='l1',scoring='roc_auc',\n",
    "                             solver='liblinear')\n",
    "selectF = SelectFromModel(lasso, threshold=0.25)\n",
    "clf = LogisticRegression(class_weight='balanced')\n",
    "pipe = make_pipeline(selectF, clf)\n",
    "score = cross_val_score(pipe, FX_train_enc.values, Fy_train.values, cv=5, scoring='roc_auc')"
   ]
  },
  {
   "cell_type": "code",
   "execution_count": 69,
   "metadata": {},
   "outputs": [
    {
     "name": "stdout",
     "output_type": "stream",
     "text": [
      "0.6739795918367347 +/- 0.058695894363906397\n"
     ]
    }
   ],
   "source": [
    "print(score.mean(), \"+/-\", score.std())"
   ]
  },
  {
   "cell_type": "code",
   "execution_count": 70,
   "metadata": {},
   "outputs": [
    {
     "data": {
      "text/plain": [
       "Index(['age', 'address', 'famsize', 'Pstatus', 'Mjob', 'Fjob', 'reason',\n",
       "       'guardian', 'traveltime', 'studytime', 'failures', 'schoolsup',\n",
       "       'famsup', 'paid', 'activities', 'nursery', 'higher', 'internet',\n",
       "       'romantic', 'famrel', 'freetime', 'goout', 'Walc', 'health',\n",
       "       'absences_binned'],\n",
       "      dtype='object')"
      ]
     },
     "execution_count": 70,
     "metadata": {},
     "output_type": "execute_result"
    }
   ],
   "source": [
    "selectF = SelectFromModel(lasso, threshold=.25)\n",
    "X_SFMF = selectF.fit_transform(FX_train_enc, Fy_train)\n",
    "\n",
    "\n",
    "feature_idx = selectF.get_support()\n",
    "feature_name = FX_train_enc.columns[feature_idx]\n",
    "selected = feature_name.to_list()\n",
    "feature_name\n",
    "\n",
    "\n"
   ]
  },
  {
   "cell_type": "code",
   "execution_count": 71,
   "metadata": {},
   "outputs": [
    {
     "data": {
      "text/plain": [
       "LogisticRegression(C=1.0, class_weight='balanced', dual=False,\n",
       "                   fit_intercept=True, intercept_scaling=1, l1_ratio=None,\n",
       "                   max_iter=100, multi_class='warn', n_jobs=None, penalty='l2',\n",
       "                   random_state=None, solver='warn', tol=0.0001, verbose=0,\n",
       "                   warm_start=False)"
      ]
     },
     "execution_count": 71,
     "metadata": {},
     "output_type": "execute_result"
    }
   ],
   "source": [
    "clf.fit(X_SFMF, Fy_train.values)"
   ]
  },
  {
   "cell_type": "code",
   "execution_count": 72,
   "metadata": {},
   "outputs": [
    {
     "name": "stdout",
     "output_type": "stream",
     "text": [
      "0.6215880893300247\n"
     ]
    }
   ],
   "source": [
    "predictions = clf.predict(FX_test_enc[selected])\n",
    "from sklearn.metrics import classification_report\n",
    "print(roc_auc_score(Fy_test,predictions))"
   ]
  },
  {
   "cell_type": "code",
   "execution_count": 74,
   "metadata": {},
   "outputs": [
    {
     "data": {
      "image/png": "[encoded data removed]",
      "text/plain": [
       "<Figure size 720x504 with 2 Axes>"
      ]
     },
     "metadata": {
      "needs_background": "light"
     },
     "output_type": "display_data"
    }
   ],
   "source": [
    "f.print_confusion_matrix(confusion_matrix(Fy_test, predictions), [\"Fail\", \"Pass\"],  cmap = sns.light_palette((210, 90, 60), input=\"husl\"), name = \"FemaleFinal.jpg\");\n"
   ]
  },
  {
   "cell_type": "markdown",
   "metadata": {},
   "source": [
    "# Modeling the Male Data"
   ]
  },
  {
   "cell_type": "code",
   "execution_count": 45,
   "metadata": {},
   "outputs": [],
   "source": [
    "# XM.drop(columns=['absences'], inplace = True)\n",
    "MX_train, MX_test, My_train, My_test = train_test_split(XM, yM, test_size = 0.3, random_state = rand_state, stratify = yM)\n",
    "\n",
    "#target encode the training data\n",
    "#concat the X_train and y_train to target encode\n",
    "M_train =pd.concat([MX_train, My_train], axis = 1)\n",
    "\n",
    "#create new df for encoded features\n",
    "MX_train_enc = pd.DataFrame()\n",
    "MX_test_enc = pd.DataFrame()\n",
    "\n",
    "for col in MX_train.columns.to_list():\n",
    "    #means has col cats and their means\n",
    "    means = M_train.groupby(col).target.mean()\n",
    "    #makes new col in new XTrain of encoded cols\n",
    "    MX_train_enc[col] = MX_train[col].map(means)\n",
    "    #makes new col in new Xtest of encoded cols using map from train data\n",
    "    #no leakage\n",
    "    MX_test_enc[col] = MX_test[col].map(means)\n",
    "    \n"
   ]
  },
  {
   "cell_type": "code",
   "execution_count": 46,
   "metadata": {},
   "outputs": [
    {
     "name": "stdout",
     "output_type": "stream",
     "text": [
      "0.782276445179671 +/- 0.030679635272325045\n"
     ]
    }
   ],
   "source": [
    "#fit model on train data using encoded train set\n",
    "lasso = LogisticRegressionCV(class_weight='balanced',\n",
    "                             penalty='l1',scoring='roc_auc',\n",
    "                             solver='liblinear')\n",
    "selectM = SelectFromModel(lasso, threshold=0.25)\n",
    "clf = LogisticRegression(class_weight='balanced')\n",
    "pipe = make_pipeline(selectM, clf)\n",
    "score = cross_val_score(pipe, MX_train_enc.values, My_train.values, cv=3, scoring='roc_auc')\n",
    "print(score.mean(), \"+/-\", score.std())\n",
    "\n"
   ]
  },
  {
   "cell_type": "code",
   "execution_count": 47,
   "metadata": {},
   "outputs": [
    {
     "data": {
      "text/plain": [
       "Index(['Medu', 'Fedu', 'failures', 'schoolsup', 'goout', 'Dalc',\n",
       "       'absences_binned'],\n",
       "      dtype='object')"
      ]
     },
     "execution_count": 47,
     "metadata": {},
     "output_type": "execute_result"
    }
   ],
   "source": [
    "selectM = SelectFromModel(lasso, threshold=0.50)\n",
    "X_SFMF = selectM.fit_transform(MX_train_enc, My_train)\n",
    "\n",
    "\n",
    "feature_idx = selectM.get_support()\n",
    "feature_name = MX_train_enc.columns[feature_idx]\n",
    "feature_name\n",
    "\n",
    "\n"
   ]
  },
  {
   "cell_type": "code",
   "execution_count": 48,
   "metadata": {},
   "outputs": [],
   "source": [
    "selected = feature_name.to_list()"
   ]
  },
  {
   "cell_type": "code",
   "execution_count": 49,
   "metadata": {},
   "outputs": [
    {
     "name": "stdout",
     "output_type": "stream",
     "text": [
      "0.7441176470588236\n"
     ]
    }
   ],
   "source": [
    "clf.fit(X_SFMF, My_train.values)\n",
    "\n",
    "predictions = clf.predict(MX_test_enc[selected])\n",
    "from sklearn.metrics import classification_report\n",
    "print(roc_auc_score(My_test,predictions))"
   ]
  },
  {
   "cell_type": "code",
   "execution_count": 50,
   "metadata": {},
   "outputs": [
    {
     "data": {
      "image/png": "[encoded data removed]",
      "text/plain": [
       "<Figure size 720x504 with 2 Axes>"
      ]
     },
     "metadata": {
      "needs_background": "light"
     },
     "output_type": "display_data"
    }
   ],
   "source": [
    "f.print_confusion_matrix(confusion_matrix(My_test, predictions), [\"Fail\", \"Pass\"],  cmap = sns.light_palette((210, 90, 60), input=\"husl\"), name = \"MaleFinal.jpg\");\n"
   ]
  }
 ],
 "metadata": {
  "kernelspec": {
   "display_name": "Python 3",
   "language": "python",
   "name": "python3"
  },
  "language_info": {
   "codemirror_mode": {
    "name": "ipython",
    "version": 3
   },
   "file_extension": ".py",
   "mimetype": "text/x-python",
   "name": "python",
   "nbconvert_exporter": "python",
   "pygments_lexer": "ipython3",
   "version": "3.7.3"
  }
 },
 "nbformat": 4,
 "nbformat_minor": 4
}
