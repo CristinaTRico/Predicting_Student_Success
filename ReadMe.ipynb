{
 "cells": [
  {
   "cell_type": "markdown",
   "metadata": {},
   "source": [
    "# Read Me"
   ]
  },
  {
   "cell_type": "markdown",
   "metadata": {},
   "source": [
    "The focus of this project is to create a model to classify students as either passing or failing based on various features given in the dataset. The goal would be to identify students that are at risk of failing so that intervention could be provided preemptively to lower their risk of failing the course."
   ]
  },
  {
   "cell_type": "markdown",
   "metadata": {},
   "source": [
    "## Data Summary\n",
    "\n",
    "* 395 data points\n",
    "* 30 Features total\n",
    "    * 4 nominal features\n",
    "        - `Mjob` - mother's job (nominal: \"teacher\", \"health\" care related, civil \"services\" (e.g. administrative or police), \"at_home\" or \"other\")\n",
    "        - `Fjob` - father's job (nominal: \"teacher\", \"health\" care related, civil \"services\" (e.g. administrative or police), \"at_home\" or \"other\")\n",
    "        - `reason` - reason to choose this school (nominal: close to \"home\", school \"reputation\", \"course\" preference or \"other\")\n",
    "        - `guardian` - student's guardian (nominal: \"mother\", \"father\" or \"other\")\n",
    "    * 13 binary features\n",
    "        - `school` - student's school (binary: \"GP\" or \"MS\")\n",
    "        - `sex` - student's sex (binary: \"F\" - female or \"M\" - male)\n",
    "        - `age` - student's age (numeric: from 15 to 22)\n",
    "        - `address` - student's home address type (binary: \"U\" - urban or \"R\" - rural)\n",
    "        - `famsize` - family size (binary: \"LE3\" - less or equal to 3 or \"GT3\" - greater than 3)\n",
    "        - `Pstatus` - parent's cohabitation status (binary: \"T\" - living together or \"A\" - apart)\n",
    "        - `schoolsup` - extra educational support (binary: yes or no)\n",
    "        - `famsup` - family educational support (binary: yes or no)\n",
    "        - `paid` - extra paid classes within the course subject (Math or Portuguese) (binary: yes or no)\n",
    "        - `activities` - extra-curricular activities (binary: yes or no)\n",
    "        - `nursery` - attended nursery school (binary: yes or no)\n",
    "        - `higher` - wants to take higher education (binary: yes or no)\n",
    "        - `internet` - Internet access at home (binary: yes or no)\n",
    "        - `romantic` - with a romantic relationship (binary: yes or no)\n",
    "    * 11 ordinal features\n",
    "        - `Medu` - mother's education (numeric: 0 - none,  1 - primary education (4th grade), 2 – 5th to 9th grade, 3 secondary education or 4 – higher education)\n",
    "        - `Fedu` - father's education (numeric: 0 - none,  1 - primary education (4th grade), 2 – 5th to 9th grade, 3 secondary education or 4 – higher education)\n",
    "        - `traveltime` - home to school travel time (numeric: 1 - <15 min., 2 - 15 to 30 min., 3 - 30 min. to 1 hour, or 4 - >1 hour)\n",
    "        - `studytime` - weekly study time (numeric: 1 - <2 hours, 2 - 2 to 5 hours, 3 - 5 to 10 hours, or 4 - >10 hours)\n",
    "        - `failures` - number of past class failures (numeric: n if 1<=n<3, else 4)\n",
    "        - famrel - quality of family relationships (numeric: from 1 - very bad to 5 - excellent)\n",
    "        - freetime - free time after school (numeric: from 1 - very low to 5 - very high)\n",
    "        - goout - going out with friends (numeric: from 1 - very low to 5 - very high)\n",
    "        - Dalc - workday alcohol consumption (numeric: from 1 - very low to 5 - very high)\n",
    "        - Walc - weekend alcohol consumption (numeric: from 1 - very low to 5 - very high)\n",
    "        - health - current health status (numeric: from 1 - very bad to 5 - very good)\n",
    "    * 2 continuous features\n",
    "        - `absences` - number of school absences (numeric: from 0 to 93)\n",
    "        - `passed` - did the student pass the final exam (binary: yes or no)\n",
    "\n",
    "\n",
    "\n",
    "\n",
    "\n",
    "\n"
   ]
  },
  {
   "cell_type": "markdown",
   "metadata": {},
   "source": [
    "## File Summary\n",
    "\n",
    "#### student-data.csv\n",
    "* CSV file of data used in project\n",
    "\n",
    "#### Initial_EDA.ipynb\n",
    "* Foundational EDA\n",
    "* Examines target percentage between feature values\n",
    "* Exploration of interaction variables \n",
    "\n",
    "#### Feat_Eng_Model_Selection.ipynb\n",
    "* Feature engineering from xploration of interactions in EDA\n",
    "* Feature selection, and encoding using VTreat package\n",
    "* Usinging a pipline to fit several classification models for comparison\n",
    "* Optimization of models that performed best\n",
    "\n",
    "#### Final_Model_Results.ipynb\n",
    "* Split data into two populations Male and Female\n",
    "* Target encode all data\n",
    "* Use SciKitLearn SelectFromModel with LogisticRegressionCV to select fatures for both male and female population\n",
    "* Use SciKitLearn LogisticRegression Model to classify\n",
    "\n",
    "#### PlotlySimulCoordVisualization.ipynb\n",
    "* Use of plotly simultaneous coordinate plot to show the difference in variablility of three features for passing and failing students\n",
    "* Presented alongside the final presentation\n",
    "\n",
    "#### PlotlyFreeTimeViz.ipynb\n",
    "* Use of plotly heatmaps to show the difference in `FreeTime` and `StudyTime` for the Male and Female population\n",
    "* Distribution Plots to show the effect of `FamSize` on `FreeTime`\n",
    "* Presented alongside the final presentation\n",
    "\n",
    "#### Predicting Student Success.pptx\n",
    "* Final Presentation \n"
   ]
  }
 ],
 "metadata": {
  "kernelspec": {
   "display_name": "Python 3",
   "language": "python",
   "name": "python3"
  },
  "language_info": {
   "codemirror_mode": {
    "name": "ipython",
    "version": 3
   },
   "file_extension": ".py",
   "mimetype": "text/x-python",
   "name": "python",
   "nbconvert_exporter": "python",
   "pygments_lexer": "ipython3",
   "version": "3.7.3"
  }
 },
 "nbformat": 4,
 "nbformat_minor": 4
}
