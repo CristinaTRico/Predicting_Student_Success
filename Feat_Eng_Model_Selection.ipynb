{
 "cells": [
  {
   "cell_type": "code",
   "execution_count": 2,
   "metadata": {},
   "outputs": [
    {
     "name": "stderr",
     "output_type": "stream",
     "text": [
      "//anaconda3/lib/python3.7/site-packages/sklearn/externals/six.py:31: DeprecationWarning: The module is deprecated in version 0.21 and will be removed in version 0.23 since we've dropped support for Python 2.7. Please rely on the official version of six (https://pypi.org/project/six/).\n",
      "  \"(https://pypi.org/project/six/).\", DeprecationWarning)\n"
     ]
    }
   ],
   "source": [
    "import pandas as pd\n",
    "import numpy as np\n",
    "import matplotlib.pyplot as plt\n",
    "import seaborn as sns\n",
    "import matplotlib.gridspec as gridspec\n",
    "import funcs as f\n",
    "from itertools import combinations \n",
    "\n",
    "import vtreat\n",
    "import vtreat.util\n",
    "\n",
    "from os import path as op\n",
    "\n",
    "import gc\n",
    "\n",
    "from sklearn.model_selection import train_test_split, StratifiedKFold, cross_val_score, KFold, GridSearchCV\n",
    "from sklearn.preprocessing import minmax_scale\n",
    "import category_encoders as ce\n",
    "from sklearn.linear_model import LogisticRegressionCV\n",
    "from sklearn.metrics import confusion_matrix, roc_auc_score, f1_score, accuracy_score, precision_score, recall_score\n",
    "\n",
    "\n",
    "from sklearn.pipeline import Pipeline\n",
    "from sklearn.preprocessing import LabelEncoder, StandardScaler\n",
    "from sklearn.neighbors import KNeighborsClassifier\n",
    "from sklearn.tree import DecisionTreeClassifier\n",
    "from sklearn.naive_bayes import MultinomialNB\n",
    "from sklearn.feature_selection import SelectFromModel\n",
    "from sklearn.ensemble import RandomForestClassifier, GradientBoostingClassifier, ExtraTreesClassifier, BaggingClassifier, VotingClassifier, RandomTreesEmbedding\n",
    "from sklearn.cluster import KMeans\n",
    "from sklearn.decomposition import PCA\n",
    "from sklearn.svm import SVC\n",
    "from sklearn.linear_model import RidgeClassifier, SGDClassifier, LogisticRegression\n",
    "from sklearn.svm import SVC, LinearSVC\n",
    "from sklearn.naive_bayes import GaussianNB\n",
    "from hyperopt import fmin, hp, tpe, Trials, space_eval, STATUS_OK, STATUS_RUNNING\n",
    "\n",
    "import xgboost as xgb\n",
    "from xgboost import XGBClassifier\n",
    "import xgbfir\n",
    "\n",
    "import KTBoost.KTBoost as KTBoost\n",
    "\n",
    "import warnings\n",
    "warnings.filterwarnings(\"ignore\")\n",
    "\n",
    "rand_state = 42"
   ]
  },
  {
   "cell_type": "code",
   "execution_count": 3,
   "metadata": {},
   "outputs": [],
   "source": [
    "data = pd.read_csv('student-data.csv')\n",
    "#rename passed as target\n",
    "data.rename(columns={\"passed\": \"target\"}, inplace = True)\n",
    "#relabel target to find failing students no:1 yes :0\n",
    "data['target'] = data['target'].map({'no':0, 'yes':1})\n"
   ]
  },
  {
   "cell_type": "code",
   "execution_count": 4,
   "metadata": {},
   "outputs": [],
   "source": [
    "#organize and catgorize variables\n",
    "nom_cols = 'Mjob Fjob reason guardian'.split()\n",
    "bin_cols = 'school sex address famsize Pstatus schoolsup famsup paid activities nursery higher internet romantic'.split()\n",
    "ord_cols = 'Medu Fedu traveltime studytime failures famrel freetime goout Dalc Walc health'.split()\n",
    "other = 'age absences'.split()\n",
    "used_cols = nom_cols+bin_cols+ord_cols+other\n",
    "# for col in ord_cols:\n",
    "#     print(data[col].value_counts())"
   ]
  },
  {
   "cell_type": "markdown",
   "metadata": {},
   "source": [
    "## Feature Cleaning / Engineering\n",
    "### Binary encoding "
   ]
  },
  {
   "cell_type": "code",
   "execution_count": 5,
   "metadata": {},
   "outputs": [],
   "source": [
    "#catgorical mappings and yes/no go through a loop\n",
    "data['schoolE'] = data['school'].map({'GP':0, 'MS':1})\n",
    "data['sexE'] = data['sex'].map({'F':1, 'M':0})\n",
    "data['addressE'] = data['address'].map({'U':0, 'R':1})\n",
    "data['famsizeE'] = data['famsize'].map({'GT3':1, 'LE3':0})\n",
    "data['PstatusE'] = data['Pstatus'].map({'A':0, 'T':1})\n",
    "for col in 'activities nursery higher internet romantic famsup schoolsup paid'.split():\n",
    "    encoded = col + 'E'\n",
    "    data[encoded] = data[col].map({'no':0, 'yes':1})\n"
   ]
  },
  {
   "cell_type": "markdown",
   "metadata": {},
   "source": [
    "### Target Encode Nominal Variables"
   ]
  },
  {
   "cell_type": "code",
   "execution_count": 227,
   "metadata": {},
   "outputs": [],
   "source": [
    "for col in nom_cols:\n",
    "    encoded = col+ 'E'\n",
    "    data[encoded] = data[col].map(data.groupby(col)['target'].mean())"
   ]
  },
  {
   "cell_type": "markdown",
   "metadata": {},
   "source": [
    "### No encoding for the ordinals for now \n",
    "\n",
    "### Engineering a Ratio Feature from Study Time, Freetime & GoOut, Freetime "
   ]
  },
  {
   "cell_type": "code",
   "execution_count": 231,
   "metadata": {},
   "outputs": [],
   "source": [
    "data['ratio_st_ft'] = data['studytime'] / data['freetime']\n",
    "data['ratio_go_ft'] = data['goout'] / data['freetime']"
   ]
  },
  {
   "cell_type": "markdown",
   "metadata": {},
   "source": [
    "### Lets average the parents education based on the reported guardian\n",
    "* favor the guardian eduation .6 weight\n",
    "* if guardian other then evenly find the average"
   ]
  },
  {
   "cell_type": "code",
   "execution_count": 233,
   "metadata": {},
   "outputs": [],
   "source": [
    "data['Mweights'] = data['guardian'].map({'mother': .6, 'father': .4, 'other':.5})\n",
    "data['Fweights'] = data['guardian'].map({'mother': .4, 'father': .6, 'other':.5})\n",
    "data['Pedu'] = (data['Mweights']*data['Medu'])+(data['Fweights']*data['Fedu'])"
   ]
  },
  {
   "cell_type": "markdown",
   "metadata": {},
   "source": [
    "### Create a tuple variable of SchoolSup and Paid"
   ]
  },
  {
   "cell_type": "code",
   "execution_count": 244,
   "metadata": {},
   "outputs": [],
   "source": [
    "data['spsup'] = list(zip(data['schoolsupE'], data['paidE']))"
   ]
  },
  {
   "cell_type": "markdown",
   "metadata": {},
   "source": [
    "### Observation:\n",
    "* The level of target in each support combination changes so it may be a good feature to include \n",
    "* It will be target encoded"
   ]
  },
  {
   "cell_type": "code",
   "execution_count": 245,
   "metadata": {},
   "outputs": [],
   "source": [
    "data['spfsup'] = list(zip(data['schoolsupE'], data['paidE'], data['famsupE']))\n",
    "data['spfsup'] = data['spfsup'].map({(0,0,0): 'no_sup', (1,0,0): 'sch',(0,1,0): 'paid',(0,0,1): 'fam',\n",
    "                                     (1,1,0):'sch_paid',(1,0,1):'sch_fam', (0,1,1):'paid_fam',\n",
    "                                     (1,1,1): 'all'})\n",
    "data['spfsupE'] = data['spfsup'].map(data.groupby('spfsup')['target'].mean())"
   ]
  },
  {
   "cell_type": "markdown",
   "metadata": {},
   "source": [
    "### Bin Absences"
   ]
  },
  {
   "cell_type": "code",
   "execution_count": 251,
   "metadata": {},
   "outputs": [],
   "source": [
    "data['absences_binned'] = data['absences'].apply(f.abs_bin)"
   ]
  },
  {
   "cell_type": "code",
   "execution_count": 253,
   "metadata": {},
   "outputs": [],
   "source": [
    "feat_eng_1 = data[['school','age',\n",
    " 'sex',\n",
    " 'address',\n",
    " 'famsize',\n",
    " 'Pstatus',\n",
    " 'Mjob',\n",
    " 'Fjob',\n",
    " 'reason',\n",
    " 'traveltime',\n",
    " 'failures',\n",
    " 'activities',\n",
    " 'nursery',\n",
    " 'higher',\n",
    " 'internet',\n",
    " 'romantic',\n",
    " 'famrel',\n",
    " 'goout',\n",
    " 'Dalc',\n",
    " 'Walc',\n",
    " 'health',\n",
    " 'absences_binned',\n",
    " 'ratio_st_ft',\n",
    " 'Pedu',\n",
    " 'spsup', 'target']]"
   ]
  },
  {
   "cell_type": "code",
   "execution_count": 254,
   "metadata": {},
   "outputs": [],
   "source": [
    "feat_eng_1.to_csv('feat_eng_1.csv')"
   ]
  },
  {
   "cell_type": "markdown",
   "metadata": {},
   "source": [
    "# Okay we are ready to throw it into models"
   ]
  },
  {
   "cell_type": "markdown",
   "metadata": {},
   "source": [
    "## All 30 original feature thrown through vtreat and into a classificaiton pipeline "
   ]
  },
  {
   "cell_type": "code",
   "execution_count": 255,
   "metadata": {},
   "outputs": [
    {
     "data": {
      "text/plain": [
       "['failures',\n",
       " 'goout',\n",
       " 'higher_logit_code',\n",
       " 'higher_prevalence_code',\n",
       " 'higher_lev_yes']"
      ]
     },
     "execution_count": 255,
     "metadata": {},
     "output_type": "execute_result"
    }
   ],
   "source": [
    "baseline_feats = used_cols\n",
    "X = data[baseline_feats]\n",
    "y = data['target']\n",
    "\n",
    "\n",
    "\n",
    "X_train, X_test, y_train, y_test = train_test_split(X, y, test_size = 0.3, random_state = rand_state, stratify = y)\n",
    "\n",
    "transform = vtreat.BinomialOutcomeTreatment(\n",
    "    outcome_name='target',    # outcome variable\n",
    "    outcome_target=1,  # outcome of interest\n",
    ")\n",
    "\n",
    "X_train_prep = transform.fit_transform(X_train, y_train)\n",
    "X_train_prep_use = X_train_prep[transform.score_frame_.variable[transform.score_frame_.recommended == True].tolist()]\n",
    "X_train_prep_use.columns.to_list()\n"
   ]
  },
  {
   "cell_type": "code",
   "execution_count": 256,
   "metadata": {},
   "outputs": [
    {
     "name": "stdout",
     "output_type": "stream",
     "text": [
      "LogReg: 0.733606 (+/- 0.095494)\n",
      "XGBClassifier: 0.689638 (+/- 0.122390)\n",
      "DecisionTreeClassifier: 0.616769 (+/- 0.109333)\n",
      "RandomForestClassifier: 0.679594 (+/- 0.101891)\n",
      "GradientBoostingClassifier: 0.678079 (+/- 0.139164)\n",
      "RidgeClassifier: 0.728755 (+/- 0.103270)\n",
      "BaggingClassifier: 0.652861 (+/- 0.126262)\n",
      "ExtraTreesClassifier: 0.646224 (+/- 0.077915)\n",
      "Support Vector Machines: 0.687354 (+/- 0.117716)\n",
      "GaussianNB: 0.737901 (+/- 0.076007)\n"
     ]
    },
    {
     "data": {
      "image/png": "[encoded data removed]",
      "text/plain": [
       "<Figure size 1080x432 with 1 Axes>"
      ]
     },
     "metadata": {
      "needs_background": "light"
     },
     "output_type": "display_data"
    }
   ],
   "source": [
    "f.clf(X_train_prep_use.values, y_train, scoring = 'roc_auc')"
   ]
  },
  {
   "cell_type": "markdown",
   "metadata": {},
   "source": [
    "## Observations:\n",
    "* Logistic Rgression and GaussianNB perform the best with this Vtreat-ed data"
   ]
  },
  {
   "cell_type": "markdown",
   "metadata": {},
   "source": [
    "### Analyzing Testing data using LogisticRegression"
   ]
  },
  {
   "cell_type": "code",
   "execution_count": 261,
   "metadata": {},
   "outputs": [
    {
     "name": "stdout",
     "output_type": "stream",
     "text": [
      "Training Accuracy: 0.7463768115942029\n",
      "Training AUC 0.7381942381942381\n",
      "Training F1 0.8275862068965517\n",
      "Confusion Matrix:\n",
      "[[ 38  53]\n",
      " [ 17 168]]\n",
      "----------------------------------------\n",
      "Test Accuracy: 0.6554621848739496\n",
      "Test AUC 0.6161858974358975\n",
      "Test F1 0.7573964497041421\n",
      "Confusion Matrix:\n",
      "[[14 25]\n",
      " [16 64]]\n",
      "\n"
     ]
    }
   ],
   "source": [
    "X_test_prep = transform.transform(X_test)\n",
    "X_test_prep_use = X_test_prep[transform.score_frame_.variable[transform.score_frame_.recommended == True].tolist()]\n",
    "\n",
    "scaler = StandardScaler()\n",
    "X_train_prep_use_scaled = scaler.fit_transform(X_train_prep_use)\n",
    "X_test_prep_use_scaled = scaler.fit_transform(X_test_prep_use)\n",
    "\n",
    "lr = LogisticRegressionCV(cv=10, class_weight='balanced', n_jobs=-1, max_iter = 250)\n",
    "lr.fit(X_train_prep_use_scaled, y_train)\n",
    "y_train_pred = lr.predict_proba(X_train_prep_use_scaled)[:,1]\n",
    "\n",
    "\n",
    "y_test_pred = lr.predict_proba(X_test_prep_use_scaled)[:,1]\n",
    "\n",
    "print(\"Training Accuracy:\", lr.score(X_train_prep_use_scaled, y_train))\n",
    "print(\"Training AUC\", roc_auc_score(y_train, y_train_pred))\n",
    "print(\"Training F1\", f1_score(y_train, y_train_pred > 0.5))\n",
    "print(\"Confusion Matrix:\")\n",
    "print(confusion_matrix(y_train, y_train_pred > 0.5))\n",
    "print(\"-\" * 40)\n",
    "print(\"Test Accuracy:\", lr.score(X_test_prep_use_scaled, y_test))\n",
    "print(\"Test AUC\", roc_auc_score(y_test, y_test_pred))\n",
    "print(\"Test F1\", f1_score(y_test, y_test_pred > 0.5))\n",
    "print(\"Confusion Matrix:\")\n",
    "print(confusion_matrix(y_test, y_test_pred > 0.5))\n",
    "print()"
   ]
  },
  {
   "cell_type": "markdown",
   "metadata": {},
   "source": [
    "### Observation: \n",
    "* The LogisticRegression Model when used on Test data is overfitting 0.73 -> 0.61\n",
    "* Looking at the confusion matrices also shows undesierable results with too many false positives and negatives"
   ]
  },
  {
   "cell_type": "markdown",
   "metadata": {},
   "source": [
    "## Feature engineered and then put through Vtreat"
   ]
  },
  {
   "cell_type": "code",
   "execution_count": 40,
   "metadata": {},
   "outputs": [
    {
     "data": {
      "text/plain": [
       "['failures',\n",
       " 'goout',\n",
       " 'higher_logit_code',\n",
       " 'higher_prevalence_code',\n",
       " 'higher_lev_yes']"
      ]
     },
     "execution_count": 40,
     "metadata": {},
     "output_type": "execute_result"
    }
   ],
   "source": [
    "df = pd.read_csv('data_eng.csv')\n",
    "df.drop(columns = ['Unnamed: 0'], inplace = True)\n",
    "df['passed'] = df['passed'].map({'no': 0, 'yes': 1})\n",
    "X = df.drop(columns=['passed'])\n",
    "y = df['passed']\n",
    "X_train, X_test, y_train, y_test = train_test_split(X, y, test_size = 0.3, random_state = rand_state, stratify = y)\n",
    "\n",
    "transform = vtreat.BinomialOutcomeTreatment(\n",
    "    outcome_name='target',    # outcome variable\n",
    "    outcome_target=1,  # outcome of interest\n",
    ")\n",
    "\n",
    "X_train_prep = transform.fit_transform(X_train, y_train)\n",
    "X_train_prep_use = X_train_prep[transform.score_frame_.variable[transform.score_frame_.recommended == True].tolist()]\n",
    "X_train_prep_use.columns.to_list()"
   ]
  },
  {
   "cell_type": "code",
   "execution_count": 41,
   "metadata": {},
   "outputs": [
    {
     "name": "stdout",
     "output_type": "stream",
     "text": [
      "LogReg: 0.730347 (+/- 0.096763)\n",
      "XGBClassifier: 0.719558 (+/- 0.116819)\n",
      "DecisionTreeClassifier: 0.647858 (+/- 0.117345)\n",
      "RandomForestClassifier: 0.660971 (+/- 0.146107)\n",
      "GradientBoostingClassifier: 0.663200 (+/- 0.167598)\n",
      "RidgeClassifier: 0.733329 (+/- 0.095956)\n",
      "BaggingClassifier: 0.669743 (+/- 0.125936)\n",
      "ExtraTreesClassifier: 0.662172 (+/- 0.147505)\n",
      "Support Vector Machines: 0.709679 (+/- 0.099618)\n",
      "GaussianNB: 0.737023 (+/- 0.081175)\n"
     ]
    },
    {
     "data": {
      "image/png": "[encoded data removed]",
      "text/plain": [
       "<Figure size 1080x432 with 1 Axes>"
      ]
     },
     "metadata": {
      "needs_background": "light"
     },
     "output_type": "display_data"
    }
   ],
   "source": [
    "f.clf(X_train_prep_use.values, y_train, scoring = 'roc_auc')"
   ]
  },
  {
   "cell_type": "markdown",
   "metadata": {},
   "source": [
    "## Observation:\n",
    "* Feature Engineering and VTreat improvd the other models so they ar performing on level with LogisticRegression and GaussianNB now\n",
    "* Some models have much more variability possibly due to size of data - GradientBoostingClassifier, ExtraTresCLassifier\n"
   ]
  },
  {
   "cell_type": "markdown",
   "metadata": {},
   "source": [
    "## Included age in features from above and thrown though vtreat"
   ]
  },
  {
   "cell_type": "code",
   "execution_count": 42,
   "metadata": {},
   "outputs": [
    {
     "data": {
      "text/plain": [
       "['failures', 'goout', 'higher_prevalence_code', 'higher_lev_yes']"
      ]
     },
     "execution_count": 42,
     "metadata": {},
     "output_type": "execute_result"
    }
   ],
   "source": [
    "\n",
    "df2 = pd.read_csv('feat_eng_1.csv')\n",
    "df2.drop(columns = ['Unnamed: 0'], inplace = True)\n",
    "X = df2.drop(columns=['target'])\n",
    "y = df2['target']\n",
    "X_train, X_test, y_train, y_test = train_test_split(X, y, test_size = 0.3, random_state = rand_state, stratify = y)\n",
    "\n",
    "transform = vtreat.BinomialOutcomeTreatment(\n",
    "    outcome_name='target',    # outcome variable\n",
    "    outcome_target=1,  # outcome of interest\n",
    ")\n",
    "\n",
    "X_train_prep = transform.fit_transform(X_train, y_train)\n",
    "X_train_prep_use = X_train_prep[transform.score_frame_.variable[transform.score_frame_.recommended == True].tolist()]\n",
    "X_train_prep_use.columns.to_list()"
   ]
  },
  {
   "cell_type": "code",
   "execution_count": 43,
   "metadata": {},
   "outputs": [
    {
     "name": "stdout",
     "output_type": "stream",
     "text": [
      "LogReg: 0.732829 (+/- 0.086123)\n",
      "XGBClassifier: 0.705216 (+/- 0.094378)\n",
      "DecisionTreeClassifier: 0.694694 (+/- 0.129845)\n",
      "RandomForestClassifier: 0.696060 (+/- 0.117804)\n",
      "GradientBoostingClassifier: 0.681084 (+/- 0.140253)\n",
      "RidgeClassifier: 0.730074 (+/- 0.090743)\n",
      "BaggingClassifier: 0.698371 (+/- 0.119208)\n",
      "ExtraTreesClassifier: 0.690067 (+/- 0.130629)\n",
      "Support Vector Machines: 0.652905 (+/- 0.103508)\n",
      "GaussianNB: 0.740729 (+/- 0.078724)\n"
     ]
    },
    {
     "data": {
      "image/png": "[encoded data removed]",
      "text/plain": [
       "<Figure size 1080x432 with 1 Axes>"
      ]
     },
     "metadata": {
      "needs_background": "light"
     },
     "output_type": "display_data"
    }
   ],
   "source": [
    "f.clf(X_train_prep_use.values, y_train, scoring = 'roc_auc')"
   ]
  },
  {
   "cell_type": "markdown",
   "metadata": {},
   "source": [
    "### Observation:\n",
    "* Logistic Regression is still among the highest prforming and so sems stable"
   ]
  },
  {
   "cell_type": "code",
   "execution_count": 44,
   "metadata": {},
   "outputs": [],
   "source": [
    "X_test_prep = transform.transform(X_test)\n",
    "X_test_prep_use = X_test_prep[transform.score_frame_.variable[transform.score_frame_.recommended == True].tolist()]"
   ]
  },
  {
   "cell_type": "code",
   "execution_count": 45,
   "metadata": {},
   "outputs": [
    {
     "name": "stdout",
     "output_type": "stream",
     "text": [
      "Training Accuracy: 0.7463768115942029\n",
      "Training AUC 0.7405999405999406\n",
      "Training F1 0.8275862068965517\n",
      "Confusion Matrix:\n",
      "[[ 38  53]\n",
      " [ 17 168]]\n",
      "----------------------------------------\n",
      "Test Accuracy: 0.6554621848739496\n",
      "Test AUC 0.6161858974358975\n",
      "Test F1 0.7573964497041421\n",
      "Confusion Matrix:\n",
      "[[14 25]\n",
      " [16 64]]\n",
      "\n"
     ]
    }
   ],
   "source": [
    "X_test_prep = transform.transform(X_test)\n",
    "X_test_prep_use = X_test_prep[transform.score_frame_.variable[transform.score_frame_.recommended == True].tolist()]\n",
    "\n",
    "scaler = StandardScaler()\n",
    "X_train_prep_use_scaled = scaler.fit_transform(X_train_prep_use)\n",
    "X_test_prep_use_scaled = scaler.fit_transform(X_test_prep_use)\n",
    "\n",
    "lr = LogisticRegressionCV(cv=10, class_weight='balanced', n_jobs=-1, max_iter = 250)\n",
    "lr.fit(X_train_prep_use_scaled, y_train)\n",
    "y_train_pred = lr.predict_proba(X_train_prep_use_scaled)[:,1]\n",
    "\n",
    "\n",
    "y_test_pred = lr.predict_proba(X_test_prep_use_scaled)[:,1]\n",
    "\n",
    "print(\"Training Accuracy:\", lr.score(X_train_prep_use_scaled, y_train))\n",
    "print(\"Training AUC\", roc_auc_score(y_train, y_train_pred))\n",
    "print(\"Training F1\", f1_score(y_train, y_train_pred > 0.5))\n",
    "print(\"Confusion Matrix:\")\n",
    "print(confusion_matrix(y_train, y_train_pred > 0.5))\n",
    "print(\"-\" * 40)\n",
    "print(\"Test Accuracy:\", lr.score(X_test_prep_use_scaled, y_test))\n",
    "print(\"Test AUC\", roc_auc_score(y_test, y_test_pred))\n",
    "print(\"Test F1\", f1_score(y_test, y_test_pred > 0.5))\n",
    "print(\"Confusion Matrix:\")\n",
    "print(confusion_matrix(y_test, y_test_pred > 0.5))\n",
    "print()"
   ]
  },
  {
   "cell_type": "markdown",
   "metadata": {},
   "source": [
    "### Observation:\n",
    "* The model is still overfitting seen from the drop in score from traiing to test data 0.74 -> 0.61"
   ]
  },
  {
   "cell_type": "markdown",
   "metadata": {},
   "source": [
    "## Trying KTBoost"
   ]
  },
  {
   "cell_type": "code",
   "execution_count": 39,
   "metadata": {},
   "outputs": [
    {
     "name": "stdout",
     "output_type": "stream",
     "text": [
      "Number of trees=37, number of kernel functions=63\n",
      "Accuracy Score : 0.7058823529411765\n",
      "Precision Score : 0.7102803738317757\n",
      "Recall Score : 0.95\n",
      "F1 Score : 0.8128342245989305\n",
      "AUC 0.5775641025641025\n"
     ]
    }
   ],
   "source": [
    "model = KTBoost.BoostingClassifier(loss='deviance',base_learner='combined',\n",
    "                                    update_step='newton',theta=1)\n",
    "model.fit(X_train_prep_use,y_train)\n",
    "y_train_pred = model.predict(X_test_prep_use)\n",
    "\n",
    "print('Accuracy Score : ' + str(accuracy_score(y_test,y_train_pred)))\n",
    "print('Precision Score : ' + str(precision_score(y_test,y_train_pred)))\n",
    "print('Recall Score : ' + str(recall_score(y_test,y_train_pred)))\n",
    "print('F1 Score : ' + str(f1_score(y_test,y_train_pred)))\n",
    "print(\"AUC\", roc_auc_score(y_test, y_train_pred))"
   ]
  },
  {
   "cell_type": "markdown",
   "metadata": {},
   "source": [
    "### Observation: \n",
    "* KTBoost is did not prive to be very sucessful model for this data with an AUC just over a coin flip at 0.57"
   ]
  },
  {
   "cell_type": "markdown",
   "metadata": {},
   "source": [
    "## What If I don't use Vtreat?"
   ]
  },
  {
   "cell_type": "code",
   "execution_count": 103,
   "metadata": {},
   "outputs": [],
   "source": [
    "data['spsupE'] = data['spsup'].map(data.groupby('spsup')['target'].mean())"
   ]
  },
  {
   "cell_type": "code",
   "execution_count": 104,
   "metadata": {},
   "outputs": [],
   "source": [
    "no_vtreat = data[['schoolE',\n",
    " 'age',\n",
    " 'sexE',\n",
    " 'addressE',\n",
    " 'famsizeE',\n",
    " 'PstatusE',\n",
    " 'MjobE',\n",
    " 'FjobE',\n",
    " 'reasonE',\n",
    " 'traveltime',\n",
    " 'failures',\n",
    " 'activitiesE',\n",
    " 'nurseryE',\n",
    " 'higherE',\n",
    " 'internetE',\n",
    " 'romanticE',\n",
    " 'famrel',\n",
    " 'goout',\n",
    " 'Dalc',\n",
    " 'Walc',\n",
    " 'health',\n",
    " 'absences_binned',\n",
    " 'ratio_st_ft',\n",
    " 'Pedu',\n",
    " 'spsupE', 'schoolsupE',\n",
    " 'target']]"
   ]
  },
  {
   "cell_type": "code",
   "execution_count": 105,
   "metadata": {},
   "outputs": [],
   "source": [
    "no_vtreat.to_csv('no_vtreat.csv')"
   ]
  },
  {
   "cell_type": "code",
   "execution_count": 36,
   "metadata": {},
   "outputs": [],
   "source": [
    "X = no_vtreat.drop(columns=['target'])\n",
    "y = no_vtreat['target']\n",
    "X_train, X_test, y_train, y_test = train_test_split(X, y, test_size = 0.3, random_state = rand_state, stratify = y)\n"
   ]
  },
  {
   "cell_type": "code",
   "execution_count": 37,
   "metadata": {},
   "outputs": [
    {
     "name": "stdout",
     "output_type": "stream",
     "text": [
      "LogReg: 0.752296 (+/- 0.079219)\n",
      "XGBClassifier: 0.772785 (+/- 0.072041)\n",
      "DecisionTreeClassifier: 0.718615 (+/- 0.063917)\n",
      "RandomForestClassifier: 0.731876 (+/- 0.072651)\n",
      "GradientBoostingClassifier: 0.751308 (+/- 0.085433)\n",
      "RidgeClassifier: 0.747209 (+/- 0.071028)\n",
      "BaggingClassifier: 0.772742 (+/- 0.094107)\n",
      "ExtraTreesClassifier: 0.753719 (+/- 0.084971)\n",
      "Support Vector Machines: 0.724797 (+/- 0.066235)\n",
      "GaussianNB: 0.742612 (+/- 0.061141)\n"
     ]
    },
    {
     "data": {
      "image/png": "[encoded data removed]",
      "text/plain": [
       "<Figure size 1080x432 with 1 Axes>"
      ]
     },
     "metadata": {
      "needs_background": "light"
     },
     "output_type": "display_data"
    }
   ],
   "source": [
    "f.clf(X_train, y_train)"
   ]
  },
  {
   "cell_type": "markdown",
   "metadata": {},
   "source": [
    "## What If I optimize LogReg ?"
   ]
  },
  {
   "cell_type": "code",
   "execution_count": 38,
   "metadata": {},
   "outputs": [
    {
     "name": "stdout",
     "output_type": "stream",
     "text": [
      "{'C': 0.02, 'penalty': 'l2'}\n",
      "Accuracy Score : 0.6554621848739496\n",
      "Precision Score : 0.7191011235955056\n",
      "Recall Score : 0.8\n",
      "F1 Score : 0.7573964497041421\n",
      "AUC 0.5794871794871794\n"
     ]
    },
    {
     "data": {
      "text/plain": [
       "array([[14, 25],\n",
       "       [16, 64]])"
      ]
     },
     "execution_count": 38,
     "metadata": {},
     "output_type": "execute_result"
    }
   ],
   "source": [
    "clf = LogisticRegression(class_weight='balanced')\n",
    "# grid_values = {'penalty': ['l1', 'l2'],'C':[0.001,0.01,0.1,1,10,100, 1000]}\n",
    "grid_values = {'penalty': ['l1', 'l2'],'C': .01*np.array(range(1,11))}\n",
    "grid_clf_acc = GridSearchCV(clf, param_grid = grid_values,scoring = 'precision')\n",
    "grid_clf_acc.fit(X_train_prep_use_scaled , y_train)\n",
    "print(grid_clf_acc.best_params_  )\n",
    "#Predict values based on new parameters\n",
    "\n",
    "y_pred_acc = grid_clf_acc.predict(X_test_prep_use_scaled)\n",
    "y_pred_prob = grid_clf_acc.predict_proba(X_test_prep_use_scaled)\n",
    "\n",
    "# New Model Evaluation metrics \n",
    "print('Accuracy Score : ' + str(accuracy_score(y_test,y_pred_acc)))\n",
    "print('Precision Score : ' + str(precision_score(y_test,y_pred_acc)))\n",
    "print('Recall Score : ' + str(recall_score(y_test,y_pred_acc)))\n",
    "print('F1 Score : ' + str(f1_score(y_test,y_pred_acc>0.5)))\n",
    "print(\"AUC\", roc_auc_score(y_test, y_pred_prob))\n",
    "\n",
    "#Logistic Regression (Grid Search) Confusion matrix\n",
    "confusion_matrix(y_test,y_pred_acc)"
   ]
  },
  {
   "cell_type": "markdown",
   "metadata": {},
   "source": [
    "### NB "
   ]
  },
  {
   "cell_type": "code",
   "execution_count": 39,
   "metadata": {},
   "outputs": [
    {
     "name": "stdout",
     "output_type": "stream",
     "text": [
      "Accuracy Score : 0.6890756302521008\n",
      "Precision Score : 0.7009345794392523\n",
      "Recall Score : 0.9375\n",
      "F1 Score : 0.8021390374331551\n",
      "AUC 0.5584935897435898\n"
     ]
    },
    {
     "data": {
      "text/plain": [
       "array([[ 7, 32],\n",
       "       [ 5, 75]])"
      ]
     },
     "execution_count": 39,
     "metadata": {},
     "output_type": "execute_result"
    }
   ],
   "source": [
    "nb = GaussianNB()\n",
    "nb.fit(X_train_prep_use, y_train)\n",
    "y_pred_acc = nb.predict(X_test_prep_use)\n",
    "\n",
    "print('Accuracy Score : ' + str(accuracy_score(y_test,y_pred_acc)))\n",
    "print('Precision Score : ' + str(precision_score(y_test,y_pred_acc)))\n",
    "print('Recall Score : ' + str(recall_score(y_test,y_pred_acc)))\n",
    "print('F1 Score : ' + str(f1_score(y_test,y_pred_acc>0.5)))\n",
    "print(\"AUC\", roc_auc_score(y_test, y_pred_acc))\n",
    "\n",
    "#Logistic Regression (Grid Search) Confusion matrix\n",
    "confusion_matrix(y_test,y_pred_acc)"
   ]
  },
  {
   "cell_type": "markdown",
   "metadata": {},
   "source": [
    "### Bagging"
   ]
  },
  {
   "cell_type": "code",
   "execution_count": 40,
   "metadata": {},
   "outputs": [
    {
     "name": "stdout",
     "output_type": "stream",
     "text": [
      "Accuracy Score : 0.680672268907563\n",
      "Precision Score : 0.723404255319149\n",
      "Recall Score : 0.85\n",
      "F1 Score : 0.7816091954022989\n",
      "AUC 0.5916666666666668\n"
     ]
    },
    {
     "data": {
      "text/plain": [
       "array([[13, 26],\n",
       "       [12, 68]])"
      ]
     },
     "execution_count": 40,
     "metadata": {},
     "output_type": "execute_result"
    }
   ],
   "source": [
    "bag = BaggingClassifier()\n",
    "bag.fit(X_train_prep_use_scaled, y_train)\n",
    "y_pred_acc = bag.predict(X_test_prep_use_scaled)\n",
    "\n",
    "print('Accuracy Score : ' + str(accuracy_score(y_test,y_pred_acc)))\n",
    "print('Precision Score : ' + str(precision_score(y_test,y_pred_acc)))\n",
    "print('Recall Score : ' + str(recall_score(y_test,y_pred_acc)))\n",
    "print('F1 Score : ' + str(f1_score(y_test,y_pred_acc>0.5)))\n",
    "print(\"AUC\", roc_auc_score(y_test, y_pred_acc))\n",
    "\n",
    "#Logistic Regression (Grid Search) Confusion matrix\n",
    "confusion_matrix(y_test,y_pred_acc)"
   ]
  },
  {
   "cell_type": "code",
   "execution_count": 41,
   "metadata": {},
   "outputs": [
    {
     "name": "stdout",
     "output_type": "stream",
     "text": [
      "Accuracy Score : 0.6890756302521008\n",
      "Precision Score : 0.7128712871287128\n",
      "Recall Score : 0.9\n",
      "F1 Score : 0.7955801104972375\n",
      "AUC 0.5782051282051281\n"
     ]
    },
    {
     "data": {
      "text/plain": [
       "array([[10, 29],\n",
       "       [ 8, 72]])"
      ]
     },
     "execution_count": 41,
     "metadata": {},
     "output_type": "execute_result"
    }
   ],
   "source": [
    "param_grid = {\n",
    "    'base_estimator__max_depth' : [1, 2, 3, 4, 5],\n",
    "    'max_samples' : [0.05, 0.1, 0.2, 0.5]\n",
    "}\n",
    "\n",
    "clf = GridSearchCV(BaggingClassifier(DecisionTreeClassifier(),\n",
    "                                     n_estimators = 100, max_features = 0.5),\n",
    "                   param_grid, scoring = 'f1')\n",
    "clf.fit(X_train_prep_use_scaled, y_train)\n",
    "y_pred_acc = clf.predict(X_test_prep_use_scaled)\n",
    "\n",
    "print('Accuracy Score : ' + str(accuracy_score(y_test,y_pred_acc)))\n",
    "print('Precision Score : ' + str(precision_score(y_test,y_pred_acc)))\n",
    "print('Recall Score : ' + str(recall_score(y_test,y_pred_acc)))\n",
    "print('F1 Score : ' + str(f1_score(y_test,y_pred_acc>0.5)))\n",
    "print(\"AUC\", roc_auc_score(y_test, y_pred_acc))\n",
    "\n",
    "#Logistic Regression (Grid Search) Confusion matrix\n",
    "confusion_matrix(y_test,y_pred_acc)"
   ]
  },
  {
   "cell_type": "markdown",
   "metadata": {},
   "source": [
    "### Ridge"
   ]
  },
  {
   "cell_type": "code",
   "execution_count": 42,
   "metadata": {},
   "outputs": [
    {
     "name": "stdout",
     "output_type": "stream",
     "text": [
      "Accuracy Score : 0.680672268907563\n",
      "Precision Score : 0.71\n",
      "Recall Score : 0.8875\n",
      "F1 Score : 0.7888888888888889\n",
      "AUC 0.5719551282051282\n"
     ]
    },
    {
     "data": {
      "text/plain": [
       "array([[10, 29],\n",
       "       [ 9, 71]])"
      ]
     },
     "execution_count": 42,
     "metadata": {},
     "output_type": "execute_result"
    }
   ],
   "source": [
    "ridge = RidgeClassifier()\n",
    "ridge.fit(X_train_prep_use_scaled, y_train)\n",
    "y_pred_acc = ridge.predict(X_test_prep_use_scaled)\n",
    "\n",
    "print('Accuracy Score : ' + str(accuracy_score(y_test,y_pred_acc)))\n",
    "print('Precision Score : ' + str(precision_score(y_test,y_pred_acc)))\n",
    "print('Recall Score : ' + str(recall_score(y_test,y_pred_acc)))\n",
    "print('F1 Score : ' + str(f1_score(y_test,y_pred_acc>0.5)))\n",
    "print(\"AUC\", roc_auc_score(y_test, y_pred_acc))\n",
    "\n",
    "#Logistic Regression (Grid Search) Confusion matrix\n",
    "confusion_matrix(y_test,y_pred_acc)"
   ]
  },
  {
   "cell_type": "markdown",
   "metadata": {},
   "source": [
    "### Decision Tree"
   ]
  },
  {
   "cell_type": "code",
   "execution_count": 43,
   "metadata": {},
   "outputs": [
    {
     "name": "stdout",
     "output_type": "stream",
     "text": [
      "Accuracy Score : 0.680672268907563\n",
      "Precision Score : 0.723404255319149\n",
      "Recall Score : 0.85\n",
      "F1 Score : 0.7816091954022989\n",
      "AUC 0.5916666666666668\n"
     ]
    },
    {
     "data": {
      "text/plain": [
       "array([[13, 26],\n",
       "       [12, 68]])"
      ]
     },
     "execution_count": 43,
     "metadata": {},
     "output_type": "execute_result"
    }
   ],
   "source": [
    "dt = DecisionTreeClassifier()\n",
    "dt.fit(X_train_prep_use_scaled, y_train)\n",
    "y_pred_acc = dt.predict(X_test_prep_use_scaled)\n",
    "\n",
    "print('Accuracy Score : ' + str(accuracy_score(y_test,y_pred_acc)))\n",
    "print('Precision Score : ' + str(precision_score(y_test,y_pred_acc)))\n",
    "print('Recall Score : ' + str(recall_score(y_test,y_pred_acc)))\n",
    "print('F1 Score : ' + str(f1_score(y_test,y_pred_acc>0.5)))\n",
    "print(\"AUC\", roc_auc_score(y_test, y_pred_acc))\n",
    "\n",
    "#Logistic Regression (Grid Search) Confusion matrix\n",
    "confusion_matrix(y_test,y_pred_acc)"
   ]
  },
  {
   "cell_type": "code",
   "execution_count": 44,
   "metadata": {},
   "outputs": [
    {
     "name": "stdout",
     "output_type": "stream",
     "text": [
      "Accuracy Score : 0.680672268907563\n",
      "Precision Score : 0.723404255319149\n",
      "Recall Score : 0.85\n",
      "F1 Score : 0.7816091954022989\n",
      "AUC 0.5916666666666668\n",
      "{'criterion': 'gini', 'max_depth': None, 'max_leaf_nodes': None, 'min_samples_leaf': 10, 'min_samples_split': 20}\n"
     ]
    }
   ],
   "source": [
    "\n",
    "param_grid = {\"criterion\": [\"gini\", \"entropy\"],\n",
    "              \"min_samples_split\": [2, 10, 20],\n",
    "              \"max_depth\": [None, 2, 5, 10],\n",
    "              \"min_samples_leaf\": [1, 5, 10],\n",
    "              \"max_leaf_nodes\": [None, 5, 10, 20],\n",
    "              }\n",
    "\n",
    "clf = GridSearchCV(DecisionTreeClassifier(),\n",
    "                   param_grid, scoring = 'f1')\n",
    "clf.fit(X_train_prep_use_scaled, y_train)\n",
    "y_pred_acc = clf.predict(X_test_prep_use_scaled)\n",
    "\n",
    "print('Accuracy Score : ' + str(accuracy_score(y_test,y_pred_acc)))\n",
    "print('Precision Score : ' + str(precision_score(y_test,y_pred_acc)))\n",
    "print('Recall Score : ' + str(recall_score(y_test,y_pred_acc)))\n",
    "print('F1 Score : ' + str(f1_score(y_test,y_pred_acc>0.5)))\n",
    "print(\"AUC\", roc_auc_score(y_test, y_pred_acc))\n",
    "\n",
    "#Logistic Regression (Grid Search) Confusion matrix\n",
    "confusion_matrix(y_test,y_pred_acc)\n",
    "print(clf.best_params_  )"
   ]
  },
  {
   "cell_type": "markdown",
   "metadata": {},
   "source": [
    "### SVM"
   ]
  },
  {
   "cell_type": "code",
   "execution_count": 45,
   "metadata": {},
   "outputs": [
    {
     "name": "stdout",
     "output_type": "stream",
     "text": [
      "Accuracy Score : 0.6974789915966386\n",
      "Precision Score : 0.7558139534883721\n",
      "Recall Score : 0.8125\n",
      "F1 Score : 0.783132530120482\n",
      "AUC 0.6370192307692308\n"
     ]
    },
    {
     "data": {
      "text/plain": [
       "array([[18, 21],\n",
       "       [15, 65]])"
      ]
     },
     "execution_count": 45,
     "metadata": {},
     "output_type": "execute_result"
    }
   ],
   "source": [
    "svm = SVC(random_state=0, class_weight=\"balanced\")\n",
    "svm.fit(X_train, y_train)\n",
    "y_pred_acc = svm.predict(X_test)\n",
    "\n",
    "print('Accuracy Score : ' + str(accuracy_score(y_test,y_pred_acc)))\n",
    "print('Precision Score : ' + str(precision_score(y_test,y_pred_acc)))\n",
    "print('Recall Score : ' + str(recall_score(y_test,y_pred_acc)))\n",
    "print('F1 Score : ' + str(f1_score(y_test,y_pred_acc>0.5)))\n",
    "print(\"AUC\", roc_auc_score(y_test, y_pred_acc))\n",
    "\n",
    "#Logistic Regression (Grid Search) Confusion matrix\n",
    "confusion_matrix(y_test,y_pred_acc)"
   ]
  },
  {
   "cell_type": "code",
   "execution_count": 47,
   "metadata": {},
   "outputs": [
    {
     "name": "stdout",
     "output_type": "stream",
     "text": [
      "Accuracy Score : 0.6974789915966386\n",
      "Precision Score : 0.7558139534883721\n",
      "Recall Score : 0.8125\n",
      "F1 Score : 0.783132530120482\n",
      "AUC 0.6370192307692308\n",
      "{'C': 1, 'degree': 1, 'kernel': 'rbf'}\n"
     ]
    },
    {
     "data": {
      "text/plain": [
       "array([[18, 21],\n",
       "       [15, 65]])"
      ]
     },
     "execution_count": 47,
     "metadata": {},
     "output_type": "execute_result"
    }
   ],
   "source": [
    "parameters = {'C':[1],'kernel':['rbf'],'degree':[1]}\n",
    "svm_clf = GridSearchCV(svm, parameters, scoring = 'precision')\n",
    "svm_clf.fit(X_train, y_train)\n",
    "y_pred_acc = svm_clf.predict(X_test)\n",
    "\n",
    "print('Accuracy Score : ' + str(accuracy_score(y_test,y_pred_acc)))\n",
    "print('Precision Score : ' + str(precision_score(y_test,y_pred_acc)))\n",
    "print('Recall Score : ' + str(recall_score(y_test,y_pred_acc)))\n",
    "print('F1 Score : ' + str(f1_score(y_test,y_pred_acc)))\n",
    "print(\"AUC\", roc_auc_score(y_test, y_pred_acc))\n",
    "print(svm_clf.best_params_  )\n",
    "#Logistic Regression (Grid Search) Confusion matrix\n",
    "confusion_matrix(y_test,y_pred_acc)\n"
   ]
  },
  {
   "cell_type": "code",
   "execution_count": 48,
   "metadata": {},
   "outputs": [
    {
     "name": "stdout",
     "output_type": "stream",
     "text": [
      "Accuracy Score : 0.6050420168067226\n",
      "Precision Score : 0.7323943661971831\n",
      "Recall Score : 0.65\n",
      "F1 Score : 0.6887417218543047\n",
      "AUC 0.5814102564102563\n",
      "{'C': 10, 'degree': 1, 'kernel': 'linear'}\n"
     ]
    },
    {
     "data": {
      "text/plain": [
       "array([[20, 19],\n",
       "       [28, 52]])"
      ]
     },
     "execution_count": 48,
     "metadata": {},
     "output_type": "execute_result"
    }
   ],
   "source": [
    "parameters = {'C':[.0001,.001,.01, 0.1, 1, 10],'kernel':['linear','poly','rbf','sigmoid'],'degree':range(1,6)}\n",
    "svm_clf = GridSearchCV(svm, parameters, scoring = 'precision')\n",
    "svm_clf.fit(X_train, y_train)\n",
    "y_pred_acc = svm_clf.predict(X_test)\n",
    "\n",
    "print('Accuracy Score : ' + str(accuracy_score(y_test,y_pred_acc)))\n",
    "print('Precision Score : ' + str(precision_score(y_test,y_pred_acc)))\n",
    "print('Recall Score : ' + str(recall_score(y_test,y_pred_acc)))\n",
    "print('F1 Score : ' + str(f1_score(y_test,y_pred_acc)))\n",
    "print(\"AUC\", roc_auc_score(y_test, y_pred_acc))\n",
    "print(svm_clf.best_params_  )\n",
    "#Logistic Regression (Grid Search) Confusion matrix\n",
    "confusion_matrix(y_test,y_pred_acc)\n"
   ]
  },
  {
   "cell_type": "markdown",
   "metadata": {},
   "source": [
    "### SVM scaled?"
   ]
  },
  {
   "cell_type": "code",
   "execution_count": 49,
   "metadata": {},
   "outputs": [],
   "source": [
    "X_train_scaled = scaler.fit_transform(X_train)\n",
    "X_test_scaled = scaler.fit_transform(X_test)"
   ]
  },
  {
   "cell_type": "code",
   "execution_count": 50,
   "metadata": {},
   "outputs": [
    {
     "name": "stdout",
     "output_type": "stream",
     "text": [
      "Accuracy Score : 0.6218487394957983\n",
      "Precision Score : 0.7397260273972602\n",
      "Recall Score : 0.675\n",
      "F1 Score : 0.7058823529411764\n",
      "AUC 0.5939102564102564\n"
     ]
    },
    {
     "data": {
      "text/plain": [
       "array([[20, 19],\n",
       "       [26, 54]])"
      ]
     },
     "execution_count": 50,
     "metadata": {},
     "output_type": "execute_result"
    }
   ],
   "source": [
    "svm.fit(X_train_scaled, y_train)\n",
    "y_pred_acc = svm.predict(X_test_scaled)\n",
    "\n",
    "print('Accuracy Score : ' + str(accuracy_score(y_test,y_pred_acc)))\n",
    "print('Precision Score : ' + str(precision_score(y_test,y_pred_acc)))\n",
    "print('Recall Score : ' + str(recall_score(y_test,y_pred_acc)))\n",
    "print('F1 Score : ' + str(f1_score(y_test,y_pred_acc)))\n",
    "print(\"AUC\", roc_auc_score(y_test, y_pred_acc))\n",
    "\n",
    "#Logistic Regression (Grid Search) Confusion matrix\n",
    "confusion_matrix(y_test,y_pred_acc)"
   ]
  },
  {
   "cell_type": "code",
   "execution_count": 51,
   "metadata": {},
   "outputs": [
    {
     "name": "stdout",
     "output_type": "stream",
     "text": [
      "Accuracy Score : 0.6218487394957983\n",
      "Precision Score : 0.7536231884057971\n",
      "Recall Score : 0.65\n",
      "F1 Score : 0.697986577181208\n",
      "AUC 0.607051282051282\n",
      "{'C': 7, 'degree': 1, 'gamma': 0.0003, 'kernel': 'linear'}\n"
     ]
    },
    {
     "data": {
      "text/plain": [
       "array([[22, 17],\n",
       "       [28, 52]])"
      ]
     },
     "execution_count": 51,
     "metadata": {},
     "output_type": "execute_result"
    }
   ],
   "source": [
    "parameters = {'C':[.0001,.001,7,8.8,9,9.2, 11],'kernel':['linear','poly','rbf','sigmoid'],'degree':range(1,6),\n",
    "              'gamma':[.0003,.0004,.0005]}\n",
    "svm_clf = GridSearchCV(svm, parameters, scoring = 'precision')\n",
    "svm_clf.fit(X_train_scaled, y_train)\n",
    "y_pred_acc = svm_clf.predict(X_test_scaled)\n",
    "\n",
    "print('Accuracy Score : ' + str(accuracy_score(y_test,y_pred_acc)))\n",
    "print('Precision Score : ' + str(precision_score(y_test,y_pred_acc)))\n",
    "print('Recall Score : ' + str(recall_score(y_test,y_pred_acc)))\n",
    "print('F1 Score : ' + str(f1_score(y_test,y_pred_acc)))\n",
    "print(\"AUC\", roc_auc_score(y_test, y_pred_acc))\n",
    "print(svm_clf.best_params_  )\n",
    "#Logistic Regression (Grid Search) Confusion matrix\n",
    "confusion_matrix(y_test,y_pred_acc)"
   ]
  },
  {
   "cell_type": "code",
   "execution_count": 52,
   "metadata": {},
   "outputs": [
    {
     "name": "stdout",
     "output_type": "stream",
     "text": [
      "Accuracy Score : 0.5294117647058824\n",
      "Precision Score : 0.8333333333333334\n",
      "Recall Score : 0.375\n",
      "F1 Score : 0.5172413793103448\n",
      "AUC 0.6105769230769231\n",
      "{'C': 9, 'degree': 1, 'gamma': 1e-05, 'kernel': 'linear'}\n"
     ]
    },
    {
     "data": {
      "text/plain": [
       "array([[33,  6],\n",
       "       [50, 30]])"
      ]
     },
     "execution_count": 52,
     "metadata": {},
     "output_type": "execute_result"
    }
   ],
   "source": [
    "parameters = {'C':[.0001,.001,7,8.8,9,9.2, 11],'kernel':['linear','poly','rbf','sigmoid'],'degree':range(1,6),\n",
    "              'gamma':[.00001,.0003,.0004]}\n",
    "svm_clf = GridSearchCV(svm, parameters, scoring = 'precision')\n",
    "svm_clf.fit(X_train, y_train)\n",
    "y_pred_acc = svm_clf.predict(X_test_scaled)\n",
    "\n",
    "print('Accuracy Score : ' + str(accuracy_score(y_test,y_pred_acc)))\n",
    "print('Precision Score : ' + str(precision_score(y_test,y_pred_acc)))\n",
    "print('Recall Score : ' + str(recall_score(y_test,y_pred_acc)))\n",
    "print('F1 Score : ' + str(f1_score(y_test,y_pred_acc)))\n",
    "print(\"AUC\", roc_auc_score(y_test, y_pred_acc))\n",
    "print(svm_clf.best_params_  )\n",
    "#Logistic Regression (Grid Search) Confusion matrix\n",
    "confusion_matrix(y_test,y_pred_acc)"
   ]
  },
  {
   "cell_type": "code",
   "execution_count": null,
   "metadata": {},
   "outputs": [],
   "source": [
    "parameters = {'C':[.0001,.001,7,8.8,9,9.2, 11],'kernel':['linear','poly','rbf','sigmoid'],'degree':range(1,6),\n",
    "              'gamma':[.0001, .0005, .001,.01,.1,1,10]}\n",
    "svm_clf = GridSearchCV(svm, parameters, scoring = 'precision')\n",
    "svm_clf.fit(X_train_scaled, y_train)\n",
    "y_pred_acc = svm_clf.predict(X_test_scaled)\n",
    "\n",
    "print('Accuracy Score : ' + str(accuracy_score(y_test,y_pred_acc)))\n",
    "print('Precision Score : ' + str(precision_score(y_test,y_pred_acc)))\n",
    "print('Recall Score : ' + str(recall_score(y_test,y_pred_acc)))\n",
    "print('F1 Score : ' + str(f1_score(y_test,y_pred_acc)))\n",
    "print(\"AUC\", roc_auc_score(y_test, y_pred_acc))\n",
    "print(svm_clf.best_params_  )\n",
    "#Logistic Regression (Grid Search) Confusion matrix\n",
    "confusion_matrix(y_test,y_pred_acc)"
   ]
  },
  {
   "cell_type": "code",
   "execution_count": null,
   "metadata": {},
   "outputs": [],
   "source": [
    "parameters = {'C':[.0001,.001,7,8.8,9,9.2, 11],'kernel':['linear','poly','rbf','sigmoid'],'degree':range(1,6),\n",
    "              'gamma':[.0003,.0004,.0005]}\n",
    "svm_clf = GridSearchCV(svm, parameters, scoring = 'precision')\n",
    "svm_clf.fit(X_train, y_train)\n",
    "y_pred_acc = svm_clf.predict(X_test_scaled)\n",
    "\n",
    "print('Accuracy Score : ' + str(accuracy_score(y_test,y_pred_acc)))\n",
    "print('Precision Score : ' + str(precision_score(y_test,y_pred_acc)))\n",
    "print('Recall Score : ' + str(recall_score(y_test,y_pred_acc)))\n",
    "print('F1 Score : ' + str(f1_score(y_test,y_pred_acc)))\n",
    "print(\"AUC\", roc_auc_score(y_test, y_pred_acc))\n",
    "print(svm_clf.best_params_  )\n",
    "#Logistic Regression (Grid Search) Confusion matrix\n",
    "confusion_matrix(y_test,y_pred_acc)"
   ]
  },
  {
   "cell_type": "markdown",
   "metadata": {},
   "source": [
    "## Optimization Results:\n",
    "* `LogReg` 0.57\n",
    "* `NB` 0.55\n",
    "* `Bagging` 0.57\n",
    "* `Ridge` 0.57\n",
    "* `DT` 0.59\n",
    "* `SVM` 0.63\n",
    "\n",
    "None of the models are performing very well when considering ROC_AUC score. SVM scores well but is highly instable "
   ]
  },
  {
   "cell_type": "markdown",
   "metadata": {},
   "source": [
    "# Next Steps\n",
    "* Split Data into two populations\n",
    "* Use different fature selction methods"
   ]
  }
 ],
 "metadata": {
  "kernelspec": {
   "display_name": "Python 3",
   "language": "python",
   "name": "python3"
  },
  "language_info": {
   "codemirror_mode": {
    "name": "ipython",
    "version": 3
   },
   "file_extension": ".py",
   "mimetype": "text/x-python",
   "name": "python",
   "nbconvert_exporter": "python",
   "pygments_lexer": "ipython3",
   "version": "3.7.3"
  }
 },
 "nbformat": 4,
 "nbformat_minor": 4
}
